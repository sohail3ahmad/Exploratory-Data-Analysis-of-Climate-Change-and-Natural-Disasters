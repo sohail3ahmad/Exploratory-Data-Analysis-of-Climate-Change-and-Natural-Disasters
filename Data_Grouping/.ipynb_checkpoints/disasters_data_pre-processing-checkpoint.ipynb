{
 "cells": [
  {
   "cell_type": "code",
   "execution_count": 4,
   "id": "44b0a4c5-1f8f-4f9f-9339-6397f4140962",
   "metadata": {
    "tags": []
   },
   "outputs": [
    {
     "name": "stdout",
     "output_type": "stream",
     "text": [
      "Filtered CSV file created successfully!\n"
     ]
    }
   ],
   "source": [
    "import pandas as pd\n",
    "\n",
    "# Load the CSV file\n",
    "input_file = 'datasets/1900_2021_DISASTERS.xlsx - emdat data.csv'\n",
    "output_file = 'processed_datasets/1900_2021_DISASTERS_Pre-Processed.csv'\n",
    "\n",
    "# Read the CSV file\n",
    "df = pd.read_csv(input_file)\n",
    "\n",
    "# Select the desired columns\n",
    "columns_to_keep = ['Year', 'Seq', 'Disaster Group', 'Disaster Subgroup', \n",
    "                   'Disaster Type', 'Country', 'ISO', 'Region', 'Continent', 'Total Deaths']\n",
    "filtered_df = df[columns_to_keep]\n",
    "\n",
    "# Save the filtered DataFrame to a new CSV file\n",
    "filtered_df.to_csv(output_file, index=False)\n",
    "\n",
    "print(\"Filtered CSV file created successfully!\")"
   ]
  },
  {
   "cell_type": "code",
   "execution_count": null,
   "id": "bf403a28-98ab-4082-b469-aea7793fad0c",
   "metadata": {},
   "outputs": [],
   "source": []
  }
 ],
 "metadata": {
  "kernelspec": {
   "display_name": "Python 3 (ipykernel)",
   "language": "python",
   "name": "python3"
  },
  "language_info": {
   "codemirror_mode": {
    "name": "ipython",
    "version": 3
   },
   "file_extension": ".py",
   "mimetype": "text/x-python",
   "name": "python",
   "nbconvert_exporter": "python",
   "pygments_lexer": "ipython3",
   "version": "3.11.5"
  }
 },
 "nbformat": 4,
 "nbformat_minor": 5
}
