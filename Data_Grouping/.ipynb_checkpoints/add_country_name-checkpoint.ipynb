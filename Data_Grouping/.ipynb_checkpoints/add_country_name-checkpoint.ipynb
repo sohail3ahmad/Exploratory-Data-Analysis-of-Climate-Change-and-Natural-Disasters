{
 "cells": [
  {
   "cell_type": "code",
   "execution_count": 54,
   "id": "7ff90548-d49b-44e1-b265-5e920c6edb1a",
   "metadata": {
    "tags": []
   },
   "outputs": [
    {
     "name": "stdout",
     "output_type": "stream",
     "text": [
      "Country names added successfully!\n"
     ]
    }
   ],
   "source": [
    "import pandas as pd\n",
    "\n",
    "# Define the dictionary to map ISO codes to country names\n",
    "country_dict = {\n",
    "    \"CPV\": \"Cape Verde\", \"IND\": \"India\", \"GTM\": \"Guatemala\", \"CAN\": \"Canada\", \n",
    "    \"COM\": \"Comoros\", \"BGD\": \"Bangladesh\", \"CHL\": \"Chile\", \"COL\": \"Colombia\", \n",
    "    \"BEL\": \"Belgium\", \"HKG\": \"Hong Kong\", \"CHN\": \"China\", \"FRA\": \"France\", \n",
    "    \"HTI\": \"Haiti\", \"IDN\": \"Indonesia\", \"BFA\": \"Burkina Faso\", \"CRI\": \"Costa Rica\", \n",
    "    \"DZA\": \"Algeria\", \"GMB\": \"Gambia\", \"GNB\": \"Guinea-Bissau\", \"AIA\": \"Anguilla\", \n",
    "    \"DFR\": \"Democratic Federal Republic\", \"ECU\": \"Ecuador\", \"BHS\": \"Bahamas\", \n",
    "    \"CUB\": \"Cuba\", \"EGY\": \"Egypt\", \"BGR\": \"Bulgaria\", \"GLP\": \"Guadeloupe\", \n",
    "    \"GRC\": \"Greece\", \"DMA\": \"Dominica\", \"DOM\": \"Dominican Republic\", \"BLZ\": \"Belize\", \n",
    "    \"FJI\": \"Fiji\", \"HND\": \"Honduras\", \"GHA\": \"Ghana\", \"AUS\": \"Australia\", \n",
    "    \"COK\": \"Cook Islands\", \"ARG\": \"Argentina\", \"AZO\": \"Azores\", \"BMU\": \"Bermuda\", \n",
    "    \"BRA\": \"Brazil\", \"ATG\": \"Antigua and Barbuda\", \"CHE\": \"Switzerland\", \n",
    "    \"AUT\": \"Austria\", \"GBR\": \"United Kingdom\", \"CYP\": \"Cyprus\", \"ESP\": \"Spain\", \n",
    "    \"AFG\": \"Afghanistan\", \"ANT\": \"Netherlands Antilles\", \"BRB\": \"Barbados\", \n",
    "    \"ETH\": \"Ethiopia\", \"ALB\": \"Albania\", \"GUM\": \"Guam\", \"GRD\": \"Grenada\", \n",
    "    \"BOL\": \"Bolivia\", \"BWA\": \"Botswana\", \"ASM\": \"American Samoa\", \"COG\": \"Congo\", \n",
    "    \"BEN\": \"Benin\", \"CIV\": \"Ivory Coast\", \"HUN\": \"Hungary\", \"CMR\": \"Cameroon\", \n",
    "    \"GUY\": \"Guyana\", \"CAF\": \"Central African Republic\", \"CSK\": \"Czechoslovakia\", \n",
    "    \"DNK\": \"Denmark\", \"DJI\": \"Djibouti\", \"BDI\": \"Burundi\", \"BHR\": \"Bahrain\", \n",
    "    \"USA\": \"United States\", \"JAM\": \"Jamaica\", \"JPN\": \"Japan\", \"UGA\": \"Uganda\", \n",
    "    \"MMR\": \"Myanmar\", \"MTQ\": \"Martinique\", \"SUN\": \"Soviet Union\", \"NER\": \"Niger\", \n",
    "    \"TUR\": \"Turkey\", \"ITA\": \"Italy\", \"PHL\": \"Philippines\", \"TWN\": \"Taiwan\", \n",
    "    \"ROU\": \"Romania\", \"IRN\": \"Iran\", \"MAR\": \"Morocco\", \"MLI\": \"Mali\", \n",
    "    \"MRT\": \"Mauritania\", \"SEN\": \"Senegal\", \"TCD\": \"Chad\", \"PER\": \"Peru\", \n",
    "    \"TKL\": \"Tokelau\", \"PRI\": \"Puerto Rico\", \"NZL\": \"New Zealand\", \"PAK\": \"Pakistan\", \n",
    "    \"JOR\": \"Jordan\", \"KNA\": \"Saint Kitts and Nevis\", \"MSR\": \"Montserrat\", \n",
    "    \"POL\": \"Poland\", \"MEX\": \"Mexico\", \"NIC\": \"Nicaragua\", \"SLB\": \"Solomon Islands\", \n",
    "    \"TTO\": \"Trinidad and Tobago\", \"SLV\": \"El Salvador\", \"KOR\": \"South Korea\", \n",
    "    \"NOR\": \"Norway\", \"PNG\": \"Papua New Guinea\", \"NCL\": \"New Caledonia\", \n",
    "    \"SDN\": \"Sudan\", \"LBY\": \"Libya\", \"TON\": \"Tonga\", \"REU\": \"Réunion\", \n",
    "    \"NLD\": \"Netherlands\", \"IRQ\": \"Iraq\", \"NPL\": \"Nepal\", \"LBN\": \"Lebanon\", \n",
    "    \"MOZ\": \"Mozambique\", \"LKA\": \"Sri Lanka\", \"MNG\": \"Mongolia\", \"SPI\": \"Spain\", \n",
    "    \"TUN\": \"Tunisia\", \"PYF\": \"French Polynesia\", \"NIU\": \"Niue\", \"LCA\": \"Saint Lucia\", \n",
    "    \"MUS\": \"Mauritius\", \"SOM\": \"Somalia\", \"THA\": \"Thailand\", \"PRY\": \"Paraguay\", \n",
    "    \"KEN\": \"Kenya\", \"PAN\": \"Panama\", \"SAU\": \"Saudi Arabia\", \"TZA\": \"Tanzania\", \n",
    "    \"MYS\": \"Malaysia\", \"LAO\": \"Laos\", \"TGO\": \"Togo\", \"MWI\": \"Malawi\", \n",
    "    \"PRT\": \"Portugal\", \"SYR\": \"Syria\", \"URY\": \"Uruguay\", \"LSO\": \"Lesotho\", \n",
    "    \"MDG\": \"Madagascar\", \"NGA\": \"Nigeria\", \"SUR\": \"Suriname\", \"ISR\": \"Israel\", \n",
    "    \"KIR\": \"Kiribati\", \"TUV\": \"Tuvalu\", \"ISL\": \"Iceland\", \"RWA\": \"Rwanda\", \n",
    "    \"SLE\": \"Sierra Leone\", \"SWE\": \"Sweden\", \"OMN\": \"Oman\", \"MDV\": \"Maldives\", \n",
    "    \"VCT\": \"Saint Vincent and the Grenadines\", \"VUT\": \"Vanuatu\", \"YMN\": \"Yemen\", \n",
    "    \"VEN\": \"Venezuela\", \"ZAF\": \"South Africa\", \"VNM\": \"Vietnam\", \"YUG\": \"Yugoslavia\", \n",
    "    \"WSM\": \"Samoa\", \"WLF\": \"Wallis and Futuna\", \"COD\": \"Congo (DRC)\", \"YMD\": \"Yemen (Democratic Republic)\", \n",
    "    \"ZWE\": \"Zimbabwe\", \"ZMB\": \"Zambia\", \"GIN\": \"Guinea\", \"AGO\": \"Angola\", \n",
    "    \"DDR\": \"East Germany\", \"BTN\": \"Bhutan\", \"FSM\": \"Micronesia\", \"GAB\": \"Gabon\", \n",
    "    \"LBR\": \"Liberia\", \"NAM\": \"Namibia\", \"IRL\": \"Ireland\", \"LUX\": \"Luxembourg\", \n",
    "    \"PSE\": \"Palestine\", \"KHM\": \"Cambodia\", \"PRK\": \"North Korea\", \"SWZ\": \"Eswatini\", \n",
    "    \"STP\": \"São Tomé and Príncipe\", \"TCA\": \"Turks and Caicos Islands\", \n",
    "    \"DEU\": \"Germany\", \"BLR\": \"Belarus\", \"FIN\": \"Finland\", \"GEO\": \"Georgia\", \n",
    "    \"MHL\": \"Marshall Islands\", \"KGZ\": \"Kyrgyzstan\", \"LTU\": \"Lithuania\", \n",
    "    \"RUS\": \"Russia\", \"ERI\": \"Eritrea\", \"MKD\": \"North Macedonia\", \"KAZ\": \"Kazakhstan\", \n",
    "    \"MAC\": \"Macau\", \"VIR\": \"U.S. Virgin Islands\", \"TJK\": \"Tajikistan\", \n",
    "    \"YEM\": \"Yemen\", \"UZB\": \"Uzbekistan\", \"SCG\": \"Serbia and Montenegro\", \n",
    "    \"UKR\": \"Ukraine\", \"TKM\": \"Turkmenistan\", \"AZE\": \"Azerbaijan\", \"ARM\": \"Armenia\", \n",
    "    \"BRN\": \"Brunei\", \"MDA\": \"Moldova\", \"CZE\": \"Czech Republic\", \"GUF\": \"French Guiana\", \n",
    "    \"HRV\": \"Croatia\", \"KWT\": \"Kuwait\", \"VGB\": \"British Virgin Islands\", \n",
    "    \"SVK\": \"Slovakia\", \"SYC\": \"Seychelles\", \"SVN\": \"Slovenia\", \"BIH\": \"Bosnia and Herzegovina\", \n",
    "    \"LVA\": \"Latvia\", \"SGP\": \"Singapore\", \"CYM\": \"Cayman Islands\", \"SHN\": \"Saint Helena\", \n",
    "    \"TLS\": \"Timor-Leste\", \"MNP\": \"Northern Mariana Islands\", \"GNQ\": \"Equatorial Guinea\", \n",
    "    \"EST\": \"Estonia\", \"MNE\": \"Montenegro\", \"SRB\": \"Serbia\", \"SSD\": \"South Sudan\", \n",
    "    \"PLW\": \"Palau\", \"ARE\": \"United Arab Emirates\", \"QAT\": \"Qatar\", \"BLM\": \"Saint Barthélemy\", \n",
    "    \"MAF\": \"Saint Martin\", \"SXM\": \"Sint Maarten\", \"IMN\": \"Isle of Man\",\"NRU\": \"Nauru\",\n",
    "    \"MLT\": \"Malta\",\n",
    "    \"LIE\": \"Liechtenstein\",\n",
    "    \"MCO\": \"Monaco\",\n",
    "    \"AND\": \"Andorra\",\n",
    "    \"DRC\": \"Democratic Republic of the Congo\"\n",
    "    \n",
    "}\n",
    "\n",
    "# Load the CSV file\n",
    "input_file = 'processed_datasets/1900_2021_DISASTERS_Pre-Processed.csv'\n",
    "output_file = 'processed_datasets/1900_2021_DISASTERS_Pre-Processed.csv'\n",
    "\n",
    "# Load the CSV file into a DataFrame\n",
    "df = pd.read_csv(input_file)\n",
    "\n",
    "# Map the 'iso' column to country names using the dictionary\n",
    "df['Country'] = df['ISO'].map(country_dict)\n",
    "\n",
    "# Save the updated DataFrame back to a new CSV\n",
    "df.to_csv(output_file, index=False)\n",
    "\n",
    "print(\"Country names added successfully!\")\n"
   ]
  },
  {
   "cell_type": "code",
   "execution_count": null,
   "id": "406a4a37-3330-4076-9922-1d8626a8661b",
   "metadata": {},
   "outputs": [],
   "source": []
  }
 ],
 "metadata": {
  "kernelspec": {
   "display_name": "Python 3 (ipykernel)",
   "language": "python",
   "name": "python3"
  },
  "language_info": {
   "codemirror_mode": {
    "name": "ipython",
    "version": 3
   },
   "file_extension": ".py",
   "mimetype": "text/x-python",
   "name": "python",
   "nbconvert_exporter": "python",
   "pygments_lexer": "ipython3",
   "version": "3.11.5"
  }
 },
 "nbformat": 4,
 "nbformat_minor": 5
}
