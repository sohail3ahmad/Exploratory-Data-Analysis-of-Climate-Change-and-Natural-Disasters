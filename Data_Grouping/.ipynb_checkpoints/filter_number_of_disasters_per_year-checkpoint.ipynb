{
 "cells": [
  {
   "cell_type": "code",
   "execution_count": 7,
   "id": "d818b4d1-8316-4e4b-93b2-b0b3fe4a1bcf",
   "metadata": {
    "tags": []
   },
   "outputs": [
    {
     "name": "stdout",
     "output_type": "stream",
     "text": [
      "Disasters per year file created successfully!\n"
     ]
    }
   ],
   "source": [
    "import pandas as pd\n",
    "\n",
    "# Load the filtered CSV file\n",
    "input_file = 'processed_datasets/1900_2021_DISASTERS_Pre-Processed.csv'  # This is the filtered file from the previous step\n",
    "output_file = 'processed_datasets/DISASTERS_PER_YEAR.csv'\n",
    "\n",
    "# Read the CSV file\n",
    "df = pd.read_csv(input_file)\n",
    "\n",
    "# Group by 'Year' and count the occurrences (disasters) in each year\n",
    "disasters_per_year = df.groupby('Year').size().reset_index(name='Total Disasters')\n",
    "\n",
    "# Save the result to a new CSV file\n",
    "disasters_per_year.to_csv(output_file, index=False)\n",
    "\n",
    "print(\"Disasters per year file created successfully!\")"
   ]
  },
  {
   "cell_type": "code",
   "execution_count": null,
   "id": "0cee496b-ac28-454c-8f59-3e69c933c8c2",
   "metadata": {},
   "outputs": [],
   "source": [
    "import pandas as pd\n",
    "\n",
    "# Load the filtered CSV file\n",
    "input_file = 'processed_datasets/1900_2021_DISASTERS_Pre-Processed.csv'  # This is the filtered file from the previous step\n",
    "output_file = 'processed_datasets/DISASTERS_PER_YEAR_New.csv'\n",
    "\n",
    "# Read the CSV file\n",
    "df = pd.read_csv(input_file)\n",
    "\n",
    "# Group by 'Year' and calculate both the number of disasters and the sum of 'Total Deaths'\n",
    "disasters_per_year = df.groupby('Year').agg(\n",
    "    Total_Disasters=('Year', 'size'),  # Count the number of occurrences per year\n",
    "    Total_Deaths=('Total Deaths', 'sum')  # Sum the 'Total Deaths' for each year\n",
    ").reset_index()\n",
    "\n",
    "# Convert the columns to appropriate types\n",
    "disasters_per_year['Total_Disasters'] = disasters_per_year['Total_Disasters'].astype(int)\n",
    "disasters_per_year['Total_Deaths'] = disasters_per_year['Total_Deaths'].fillna(0).astype(int)\n",
    "\n",
    "# Save the result to a new CSV file\n",
    "disasters_per_year.to_csv(output_file, index=False)\n",
    "\n",
    "print(\"Disasters and deaths per year file created successfully!\")\n"
   ]
  }
 ],
 "metadata": {
  "kernelspec": {
   "display_name": "Python 3 (ipykernel)",
   "language": "python",
   "name": "python3"
  },
  "language_info": {
   "codemirror_mode": {
    "name": "ipython",
    "version": 3
   },
   "file_extension": ".py",
   "mimetype": "text/x-python",
   "name": "python",
   "nbconvert_exporter": "python",
   "pygments_lexer": "ipython3",
   "version": "3.11.5"
  }
 },
 "nbformat": 4,
 "nbformat_minor": 5
}
