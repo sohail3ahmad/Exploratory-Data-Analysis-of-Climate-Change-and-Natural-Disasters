{
 "cells": [
  {
   "cell_type": "code",
   "execution_count": 2,
   "id": "23b9d14d-1761-4d22-bca6-3e99568f100f",
   "metadata": {
    "tags": []
   },
   "outputs": [
    {
     "name": "stdout",
     "output_type": "stream",
     "text": [
      "                                                                           Unit  \\\n",
      "Country Name                                                                      \n",
      "Afghanistan, Islamic Rep. of  Degree CelsiusDegree CelsiusDegree CelsiusDegr...   \n",
      "Albania                       Degree CelsiusDegree CelsiusDegree CelsiusDegr...   \n",
      "Algeria                       Degree CelsiusDegree CelsiusDegree CelsiusDegr...   \n",
      "American Samoa                Degree CelsiusDegree CelsiusDegree CelsiusDegr...   \n",
      "Andorra, Principality of      Degree CelsiusDegree CelsiusDegree CelsiusDegr...   \n",
      "...                                                                         ...   \n",
      "Western Sahara                Degree CelsiusDegree CelsiusDegree CelsiusDegr...   \n",
      "World                         Degree CelsiusDegree CelsiusDegree CelsiusDegr...   \n",
      "Yemen, Rep. of                Degree CelsiusDegree CelsiusDegree CelsiusDegr...   \n",
      "Zambia                        Degree CelsiusDegree CelsiusDegree CelsiusDegr...   \n",
      "Zimbabwe                      Degree CelsiusDegree CelsiusDegree CelsiusDegr...   \n",
      "\n",
      "                                  Year  \\\n",
      "Country Name                             \n",
      "Afghanistan, Islamic Rep. of  103766.0   \n",
      "Albania                       103766.0   \n",
      "Algeria                       103766.0   \n",
      "American Samoa                103766.0   \n",
      "Andorra, Principality of      103766.0   \n",
      "...                                ...   \n",
      "Western Sahara                103766.0   \n",
      "World                         103766.0   \n",
      "Yemen, Rep. of                103766.0   \n",
      "Zambia                        103766.0   \n",
      "Zimbabwe                      103766.0   \n",
      "\n",
      "                                                                          Value  \n",
      "Country Name                                                                     \n",
      "Afghanistan, Islamic Rep. of  1Surface Temperature Change0.8980.652-1.0890.2...  \n",
      "Albania                       2Surface Temperature Change-0.119-0.2-0.077-0....  \n",
      "Algeria                       3Surface Temperature Change0.114-0.38-0.342-0....  \n",
      "American Samoa                4Surface Temperature Change-0.036-0.473-0.070....  \n",
      "Andorra, Principality of      5Surface Temperature Change0.081-0.355-0.526-0...  \n",
      "...                                                                         ...  \n",
      "Western Sahara                223Surface Temperature Change0.547-0.62-1.104-...  \n",
      "World                         224Surface Temperature Change0.153-0.089-0.193...  \n",
      "Yemen, Rep. of                225Surface Temperature Change0.388-0.1990.0490...  \n",
      "Zambia                        226Surface Temperature Change0.354-0.249-0.146...  \n",
      "Zimbabwe                      230Surface Temperature Change0.427-0.033-0.367...  \n",
      "\n",
      "[227 rows x 3 columns]\n"
     ]
    }
   ],
   "source": [
    "import pandas as pd\n",
    "\n",
    "# Load the CSV file\n",
    "df = pd.read_csv(\"transformed_file.csv\")  # replace with the path to your CSV file\n",
    "\n",
    "# # Group by \"Country Name\"\n",
    "# grouped = df.groupby(\"Country Name\")\n",
    "\n",
    "# Group by \"Country Name\" and apply the desired operations\n",
    "grouped = df.groupby(\"Country Name\").sum()  # for example, summing the 'Change' column\n",
    "\n",
    "# Save the grouped data to a new CSV file\n",
    "grouped.to_csv(\"grouped_data.csv\")\n",
    "\n",
    "print(\"Grouped data saved to grouped_data.csv\")"
   ]
  },
  {
   "cell_type": "code",
   "execution_count": null,
   "id": "c10924e7-df68-4014-a583-db6fee89ccee",
   "metadata": {},
   "outputs": [],
   "source": []
  }
 ],
 "metadata": {
  "kernelspec": {
   "display_name": "Python 3 (ipykernel)",
   "language": "python",
   "name": "python3"
  },
  "language_info": {
   "codemirror_mode": {
    "name": "ipython",
    "version": 3
   },
   "file_extension": ".py",
   "mimetype": "text/x-python",
   "name": "python",
   "nbconvert_exporter": "python",
   "pygments_lexer": "ipython3",
   "version": "3.11.5"
  }
 },
 "nbformat": 4,
 "nbformat_minor": 5
}
