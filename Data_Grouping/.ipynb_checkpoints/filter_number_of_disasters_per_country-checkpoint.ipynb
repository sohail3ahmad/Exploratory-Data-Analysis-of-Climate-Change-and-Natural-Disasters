{
 "cells": [
  {
   "cell_type": "code",
   "execution_count": 22,
   "id": "00872abc-dd8f-46f0-a5ab-b4553b6c5260",
   "metadata": {
    "tags": []
   },
   "outputs": [
    {
     "name": "stdout",
     "output_type": "stream",
     "text": [
      "Disasters and deaths per country file created successfully!\n"
     ]
    }
   ],
   "source": [
    "import pandas as pd\n",
    "\n",
    "# Load the filtered CSV file\n",
    "input_file = 'processed_datasets/1900_2021_DISASTERS_Pre-Processed.csv'  # This is the filtered file from the previous step\n",
    "output_file = 'processed_datasets/DISASTERS_BY_COUNTRY.csv'\n",
    "\n",
    "# Read the CSV file\n",
    "df = pd.read_csv(input_file)\n",
    "\n",
    "# Group by 'Country' and calculate both the number of disasters and the sum of 'Total Deaths'\n",
    "disasters_per_country = df.groupby('Country').agg(\n",
    "    Total_Disasters=('Country', 'size'),  # Count the number of occurrences per country\n",
    "    Total_Deaths=('Total Deaths', 'sum')  # Sum the 'Total Deaths' for each country\n",
    ").reset_index()\n",
    "\n",
    "# Convert the columns to integers\n",
    "disasters_per_country['Total_Disasters'] = disasters_per_country['Total_Disasters'].astype(int)\n",
    "disasters_per_country['Total_Deaths'] = disasters_per_country['Total_Deaths'].fillna(0).astype(int)\n",
    "\n",
    "# Save the result to a new CSV file\n",
    "disasters_per_country.to_csv(output_file, index=False)\n",
    "\n",
    "print(\"Disasters and deaths per country file created successfully!\")"
   ]
  },
  {
   "cell_type": "code",
   "execution_count": null,
   "id": "422e8050-63c1-4622-acd3-4004bc0f3357",
   "metadata": {},
   "outputs": [],
   "source": []
  }
 ],
 "metadata": {
  "kernelspec": {
   "display_name": "Python 3 (ipykernel)",
   "language": "python",
   "name": "python3"
  },
  "language_info": {
   "codemirror_mode": {
    "name": "ipython",
    "version": 3
   },
   "file_extension": ".py",
   "mimetype": "text/x-python",
   "name": "python",
   "nbconvert_exporter": "python",
   "pygments_lexer": "ipython3",
   "version": "3.11.5"
  }
 },
 "nbformat": 4,
 "nbformat_minor": 5
}
