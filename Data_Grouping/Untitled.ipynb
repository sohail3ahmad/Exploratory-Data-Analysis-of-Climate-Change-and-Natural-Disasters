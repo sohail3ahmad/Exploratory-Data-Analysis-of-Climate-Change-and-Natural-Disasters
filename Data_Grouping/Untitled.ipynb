{
 "cells": [
  {
   "cell_type": "code",
   "execution_count": 28,
   "id": "d76d48cb-03a1-414b-b083-87977f36c735",
   "metadata": {
    "tags": []
   },
   "outputs": [
    {
     "name": "stdout",
     "output_type": "stream",
     "text": [
      "Columns in the DataFrame: Index(['ObjectId', 'Country Name', 'Unit', 'Change ', '1970', '1971', '1972',\n",
      "       '1973', '1974', '1975', '1976', '1977', '1978', '1979', '1980', '1981',\n",
      "       '1982', '1983', '1984', '1985', '1986', '1987', '1988', '1989', '1990',\n",
      "       '1991', '1992', '1993', '1994', '1995', '1996', '1997', '1998', '1999',\n",
      "       '2000', '2001', '2002', '2003', '2004', '2005', '2006', '2007', '2008',\n",
      "       '2009', '2010', '2011', '2012', '2013', '2014', '2015', '2016', '2017',\n",
      "       '2018', '2019', '2020', '2021'],\n",
      "      dtype='object')\n",
      "                       Country Name            Unit    Year  Value\n",
      "0      Afghanistan, Islamic Rep. of  Degree Celsius     NaN      1\n",
      "1                           Albania  Degree Celsius     NaN      2\n",
      "2                           Algeria  Degree Celsius     NaN      3\n",
      "3                    American Samoa  Degree Celsius     NaN      4\n",
      "4          Andorra, Principality of  Degree Celsius     NaN      5\n",
      "...                             ...             ...     ...    ...\n",
      "12253                Western Sahara  Degree Celsius  2021.0  1.557\n",
      "12254                         World  Degree Celsius  2021.0  1.442\n",
      "12255                Yemen, Rep. of  Degree Celsius  2021.0    NaN\n",
      "12256                        Zambia  Degree Celsius  2021.0  1.002\n",
      "12257                      Zimbabwe  Degree Celsius  2021.0 -0.101\n",
      "\n",
      "[12258 rows x 4 columns]\n"
     ]
    }
   ],
   "source": [
    "import pandas as pd\n",
    "\n",
    "# Load your data into a DataFrame\n",
    "df = pd.read_csv(\"datasets/all countries global temperature.csv\")\n",
    "\n",
    "\n",
    "# Check columns in the DataFrame\n",
    "print(\"Columns in the DataFrame:\", df.columns)\n",
    "\n",
    "# Update id_vars based on the actual column names in your data\n",
    "id_vars = [col for col in [\"Country Name\", \"Unit\", \"Change\"] if col in df.columns]\n",
    "\n",
    "# Transform the DataFrame from wide to long format\n",
    "df_long = pd.melt(\n",
    "    df,\n",
    "    id_vars=id_vars,               # Only include columns that exist in the DataFrame\n",
    "    var_name=\"Year\",               # Name of the new column for the years\n",
    "    value_name=\"Value\"             # Name of the new column for the data values\n",
    ")\n",
    "\n",
    "# Convert 'Year' column to numeric, if necessary\n",
    "df_long[\"Year\"] = pd.to_numeric(df_long[\"Year\"], errors='coerce')\n",
    "\n",
    "# Save or display the transformed data\n",
    "df_long.to_csv(\"transformed_file.csv\", index=False)\n",
    "print(df_long)\n",
    "\n",
    "# # This example calculates the average for each country and year\n",
    "# df_grouped = df_long.groupby([\"Country Name\", \"Year\"]).mean().reset_index()\n",
    "\n",
    "# # Save or display the transformed data\n",
    "# df_grouped.to_csv(\"grouped_transformed_file.csv\", index=False)\n",
    "# print(df_grouped)\n",
    "\n"
   ]
  },
  {
   "cell_type": "code",
   "execution_count": null,
   "id": "e3f0e754-af89-417a-8e9b-bf9b06947b4b",
   "metadata": {},
   "outputs": [],
   "source": []
  }
 ],
 "metadata": {
  "kernelspec": {
   "display_name": "Python 3 (ipykernel)",
   "language": "python",
   "name": "python3"
  },
  "language_info": {
   "codemirror_mode": {
    "name": "ipython",
    "version": 3
   },
   "file_extension": ".py",
   "mimetype": "text/x-python",
   "name": "python",
   "nbconvert_exporter": "python",
   "pygments_lexer": "ipython3",
   "version": "3.11.5"
  }
 },
 "nbformat": 4,
 "nbformat_minor": 5
}
