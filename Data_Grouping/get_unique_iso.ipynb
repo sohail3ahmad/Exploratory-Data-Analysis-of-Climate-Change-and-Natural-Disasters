{
 "cells": [
  {
   "cell_type": "code",
   "execution_count": 5,
   "id": "59cdd267-5a4c-4967-85fd-de241a250d00",
   "metadata": {
    "tags": []
   },
   "outputs": [
    {
     "name": "stdout",
     "output_type": "stream",
     "text": [
      "File with unique ISO codes created successfully!\n"
     ]
    }
   ],
   "source": [
    "import pandas as pd\n",
    "\n",
    "# Load the filtered CSV file\n",
    "input_file = 'processed_datasets/1900_2021_DISASTERS_Pre-Processed.csv'  # This is the filtered file from the previous steps\n",
    "output_file = 'processed_datasets/unique_iso_codes.csv'\n",
    "\n",
    "# Read the CSV file\n",
    "df = pd.read_csv(input_file)\n",
    "\n",
    "# Select the 'ISO' column and remove duplicates\n",
    "unique_iso = df[['ISO']].drop_duplicates().reset_index(drop=True)\n",
    "\n",
    "# Save the result to a new CSV file\n",
    "unique_iso.to_csv(output_file, index=False)\n",
    "\n",
    "print(\"File with unique ISO codes created successfully!\")"
   ]
  },
  {
   "cell_type": "code",
   "execution_count": null,
   "id": "727b0010-d841-4333-af42-4200d7251915",
   "metadata": {},
   "outputs": [],
   "source": []
  }
 ],
 "metadata": {
  "kernelspec": {
   "display_name": "Python 3 (ipykernel)",
   "language": "python",
   "name": "python3"
  },
  "language_info": {
   "codemirror_mode": {
    "name": "ipython",
    "version": 3
   },
   "file_extension": ".py",
   "mimetype": "text/x-python",
   "name": "python",
   "nbconvert_exporter": "python",
   "pygments_lexer": "ipython3",
   "version": "3.11.5"
  }
 },
 "nbformat": 4,
 "nbformat_minor": 5
}
