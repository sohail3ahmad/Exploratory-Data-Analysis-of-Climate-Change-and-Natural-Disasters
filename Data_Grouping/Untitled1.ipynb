{
 "cells": [
  {
   "cell_type": "code",
   "execution_count": 4,
   "id": "23b9d14d-1761-4d22-bca6-3e99568f100f",
   "metadata": {
    "tags": []
   },
   "outputs": [
    {
     "name": "stdout",
     "output_type": "stream",
     "text": [
      "Grouped data saved to grouped_data.csv\n"
     ]
    }
   ],
   "source": [
    "import pandas as pd\n",
    "\n",
    "# Load the CSV file\n",
    "df = pd.read_csv(\"transformed_file.csv\")  # replace with the path to your CSV file\n",
    "\n",
    "# # Group by \"Country Name\"\n",
    "# grouped = df.groupby(\"Country Name\")\n",
    "\n",
    "# Group by \"Country Name\" and apply the desired operations\n",
    "grouped = df.groupby(\"Country Name\").sum()  # for example, summing the 'Change' column\n",
    "\n",
    "# Save the grouped data to a new CSV file\n",
    "grouped.to_csv(\"grouped_data.csv\")\n",
    "\n",
    "print(\"Grouped data saved to grouped_data.csv\")"
   ]
  },
  {
   "cell_type": "code",
   "execution_count": null,
   "id": "c10924e7-df68-4014-a583-db6fee89ccee",
   "metadata": {},
   "outputs": [],
   "source": []
  }
 ],
 "metadata": {
  "kernelspec": {
   "display_name": "Python 3 (ipykernel)",
   "language": "python",
   "name": "python3"
  },
  "language_info": {
   "codemirror_mode": {
    "name": "ipython",
    "version": 3
   },
   "file_extension": ".py",
   "mimetype": "text/x-python",
   "name": "python",
   "nbconvert_exporter": "python",
   "pygments_lexer": "ipython3",
   "version": "3.11.5"
  }
 },
 "nbformat": 4,
 "nbformat_minor": 5
}
