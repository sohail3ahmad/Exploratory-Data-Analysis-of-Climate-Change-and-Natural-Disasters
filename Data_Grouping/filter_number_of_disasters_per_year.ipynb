{
 "cells": [
  {
   "cell_type": "code",
   "execution_count": 5,
   "id": "d818b4d1-8316-4e4b-93b2-b0b3fe4a1bcf",
   "metadata": {
    "tags": []
   },
   "outputs": [
    {
     "name": "stdout",
     "output_type": "stream",
     "text": [
      "Disasters and deaths per year file created successfully!\n"
     ]
    }
   ],
   "source": [
    "import pandas as pd\n",
    "\n",
    "# Load the filtered CSV file\n",
    "input_file = 'processed_datasets/1900_2021_DISASTERS_Pre-Processed.csv'  # This is the filtered file from the previous step\n",
    "output_file = 'processed_datasets/DISASTERS_PER_YEAR.csv'\n",
    "\n",
    "# Read the CSV file\n",
    "df = pd.read_csv(input_file)\n",
    "\n",
    "# Group by 'Year' and calculate both the number of disasters and the sum of 'Total Deaths'\n",
    "disasters_per_year = df.groupby('Year').agg(\n",
    "    Total_Disasters=('Year', 'size'),  # Count the number of occurrences per year\n",
    "    Total_Deaths=('Total Deaths', 'sum')  # Sum the 'Total Deaths' for each year\n",
    ").reset_index()\n",
    "\n",
    "# Convert the columns to appropriate types\n",
    "disasters_per_year['Total_Disasters'] = disasters_per_year['Total_Disasters'].astype(int)\n",
    "disasters_per_year['Total_Deaths'] = disasters_per_year['Total_Deaths'].fillna(0).astype(int)\n",
    "\n",
    "# Save the result to a new CSV file\n",
    "disasters_per_year.to_csv(output_file, index=False)\n",
    "\n",
    "print(\"Disasters and deaths per year file created successfully!\")\n"
   ]
  },
  {
   "cell_type": "code",
   "execution_count": null,
   "id": "504365ad-3817-4f34-a78c-f2ba87a99f3d",
   "metadata": {},
   "outputs": [],
   "source": []
  }
 ],
 "metadata": {
  "kernelspec": {
   "display_name": "Python 3 (ipykernel)",
   "language": "python",
   "name": "python3"
  },
  "language_info": {
   "codemirror_mode": {
    "name": "ipython",
    "version": 3
   },
   "file_extension": ".py",
   "mimetype": "text/x-python",
   "name": "python",
   "nbconvert_exporter": "python",
   "pygments_lexer": "ipython3",
   "version": "3.11.5"
  }
 },
 "nbformat": 4,
 "nbformat_minor": 5
}
