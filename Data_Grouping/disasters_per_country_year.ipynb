{
 "cells": [
  {
   "cell_type": "code",
   "execution_count": 9,
   "id": "4648c653-a6e9-4b11-ada4-1728e833a383",
   "metadata": {
    "tags": []
   },
   "outputs": [
    {
     "name": "stdout",
     "output_type": "stream",
     "text": [
      "Disasters per country and year file created successfully!\n"
     ]
    }
   ],
   "source": [
    "import pandas as pd\n",
    "\n",
    "# Load the filtered CSV file\n",
    "input_file = 'processed_datasets/1900_2021_DISASTERS_Pre-Processed.csv'  # This is the filtered file from the previous step\n",
    "output_file = 'processed_datasets/DISASTERS_BY_COUNTRY_PER_YEAR.csv'\n",
    "\n",
    "# Read the CSV file\n",
    "df = pd.read_csv(input_file)\n",
    "\n",
    "# Group by 'Country' and 'Year' and calculate the number of disasters and the sum of 'Total Deaths'\n",
    "disasters_per_country_year = df.groupby(['Country', 'Year']).agg(\n",
    "    Total_Disasters=('Country', 'size'),  # Count the number of occurrences per country per year\n",
    "    Total_Deaths=('Total Deaths', 'sum')  # Sum the 'Total Deaths' for each country per year\n",
    ").reset_index()\n",
    "\n",
    "# Convert columns to integers for consistency\n",
    "disasters_per_country_year['Total_Disasters'] = disasters_per_country_year['Total_Disasters'].astype(int)\n",
    "disasters_per_country_year['Total_Deaths'] = disasters_per_country_year['Total_Deaths'].fillna(0).astype(int)\n",
    "\n",
    "# Save the result to a new CSV file\n",
    "disasters_per_country_year.to_csv(output_file, index=False)\n",
    "\n",
    "print(\"Disasters per country and year file created successfully!\")"
   ]
  },
  {
   "cell_type": "code",
   "execution_count": null,
   "id": "7e20f294-1049-4021-a367-7f796577f082",
   "metadata": {},
   "outputs": [],
   "source": []
  }
 ],
 "metadata": {
  "kernelspec": {
   "display_name": "Python 3 (ipykernel)",
   "language": "python",
   "name": "python3"
  },
  "language_info": {
   "codemirror_mode": {
    "name": "ipython",
    "version": 3
   },
   "file_extension": ".py",
   "mimetype": "text/x-python",
   "name": "python",
   "nbconvert_exporter": "python",
   "pygments_lexer": "ipython3",
   "version": "3.11.5"
  }
 },
 "nbformat": 4,
 "nbformat_minor": 5
}
